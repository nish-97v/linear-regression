{
 "cells": [
  {
   "cell_type": "code",
   "execution_count": 22,
   "metadata": {},
   "outputs": [
    {
     "name": "stdout",
     "output_type": "stream",
     "text": [
      "\n",
      "Beta:  [ -0.08076262   2.54230439 -11.95393754  39.32641531 -46.3779756\n",
      "  17.45538907]\n",
      "Argmax :  3\n"
     ]
    }
   ],
   "source": [
    "import numpy as np\n",
    "import matplotlib.pyplot as plt\n",
    "import pandas\n",
    "\n",
    "# Function that creates the X matrix as defined for fitting our model\n",
    "def create_X(x,deg):\n",
    "    X = np.ones((len(x),deg+1))\n",
    "    for i in range(1,deg+1):\n",
    "        X[:,i] = x**i\n",
    "    return X\n",
    "\n",
    "# Function for fitting the model\n",
    "def fit_beta(df,deg):\n",
    "    return np.linalg.lstsq(create_X(df.x,deg),df.y,rcond=None)[0]\n",
    "\n",
    "# Function for computing the MSE\n",
    "def mse(y,yPred):\n",
    "    return np.mean((y-yPred)**2)\n",
    "\n",
    "# Function for predicting the response\n",
    "def predict_y(x,beta):\n",
    "    return np.dot(create_X(x,len(beta)-1),beta)\n",
    "\n",
    "dfTrain = pandas.read_csv('Data_Train.csv')\n",
    "dfVal = pandas.read_csv('Data_Val.csv')\n",
    "dfTest = pandas.read_csv('Data_Test.csv')\n",
    "\n",
    "deg = 5\n",
    "X = create_X(dfTrain.x,deg)\n",
    "beta = fit_beta(dfTrain,deg)\n",
    "\n",
    "print('\\nBeta: ', beta)\n",
    "\n",
    "print('Argmax : ', np.argmax(beta))"
   ]
  }
 ],
 "metadata": {
  "kernelspec": {
   "display_name": "Python 3",
   "language": "python",
   "name": "python3"
  },
  "language_info": {
   "codemirror_mode": {
    "name": "ipython",
    "version": 3
   },
   "file_extension": ".py",
   "mimetype": "text/x-python",
   "name": "python",
   "nbconvert_exporter": "python",
   "pygments_lexer": "ipython3",
   "version": "3.7.0"
  }
 },
 "nbformat": 4,
 "nbformat_minor": 2
}
